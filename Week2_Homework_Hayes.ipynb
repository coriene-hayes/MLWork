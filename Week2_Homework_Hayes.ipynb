{
 "cells": [
  {
   "cell_type": "code",
   "execution_count": 5,
   "metadata": {},
   "outputs": [
    {
     "data": {
      "text/plain": [
       "18.11111111111111"
      ]
     },
     "execution_count": 5,
     "metadata": {},
     "output_type": "execute_result"
    }
   ],
   "source": [
    "# Finish creating the following function that takes a list and returns the average value.\n",
    ">>> s=[1,2,1,4,3,2,5,9]\n",
    ">>> s1=[3,6,9,12,15,76,-38,44,36]\n",
    ">>> def avg(my_list):\n",
    "    tot=0\n",
    "    for q in my_list:\n",
    "        tot=tot+q\n",
    "    listavg=tot/len(my_list)\n",
    "    return listavg\n",
    ">>> avg(s)\n",
    ">>> avg(s1)\n",
    "\n",
    "\n"
   ]
  },
  {
   "cell_type": "code",
   "execution_count": 18,
   "metadata": {},
   "outputs": [
    {
     "data": {
      "text/plain": [
       "{1: 2,\n",
       " 2: 2,\n",
       " 4: 1,\n",
       " 3: 1,\n",
       " 5: 1,\n",
       " 9: 1,\n",
       " 'Mary': 3,\n",
       " 'Sue': 1,\n",
       " 'Beth': 1,\n",
       " 'Harry': 1,\n",
       " 'Sally': 1,\n",
       " 'Emma': 2,\n",
       " 'Alec': 2}"
      ]
     },
     "execution_count": 18,
     "metadata": {},
     "output_type": "execute_result"
    }
   ],
   "source": [
    "# Using a dictionary keep track of the count of numbers (or items) from a list\n",
    ">>> numbers=[1,2,1,4,3,2,5,9,'Mary', 'Sue', 'Beth', 'Harry', 'Sally', 'Mary', 'Mary', 'Emma', 'Emma', 'Alec', 'Alec']\n",
    ">>> def counts(my_list):\n",
    "    counts = dict()\n",
    "    for q in numbers:\n",
    "        if q not in counts:\n",
    "            counts[q] = 1\n",
    "        else:\n",
    "            counts[q] = counts[q] + 1\n",
    "    return counts\n",
    ">>> counts(numbers)\n",
    " \n",
    "\n",
    "\n",
    "        \n",
    "        \n",
    "        \n",
    "    "
   ]
  },
  {
   "cell_type": "code",
   "execution_count": 89,
   "metadata": {
    "scrolled": false
   },
   "outputs": [
    {
     "data": {
      "text/plain": [
       "[(34, 'the'),\n",
       " (17, 'and'),\n",
       " (15, 'to'),\n",
       " (15, 'a'),\n",
       " (11, '’'),\n",
       " (9, 'of'),\n",
       " (9, 'in'),\n",
       " (9, 'footman'),\n",
       " (8, 'was'),\n",
       " (8, 'she'),\n",
       " (7, 'at'),\n",
       " (6, 'you'),\n",
       " (6, 'he'),\n",
       " (6, 'door'),\n",
       " (5, 'out'),\n",
       " (5, 'his'),\n",
       " (5, 'for'),\n",
       " (5, 'alice'),\n",
       " (4, 'this'),\n",
       " (4, 'on'),\n",
       " (4, 'it'),\n",
       " (4, 'had'),\n",
       " (4, 'as'),\n",
       " (3, 'up'),\n",
       " (3, 'then'),\n",
       " (3, 'their'),\n",
       " (3, 'that'),\n",
       " (3, 'said'),\n",
       " (3, 'might'),\n",
       " (3, 'large'),\n",
       " (3, 'into'),\n",
       " (3, 'i'),\n",
       " (3, 'him'),\n",
       " (3, 'fish'),\n",
       " (3, 'by'),\n",
       " (3, 'because'),\n",
       " (3, 'all'),\n",
       " (2, 'wood'),\n",
       " (2, 'with'),\n",
       " (2, 'when'),\n",
       " (2, 'what'),\n",
       " (2, 'went'),\n",
       " (2, 'very'),\n",
       " (2, 'two'),\n",
       " (2, 'tone'),\n",
       " (2, 'solemn'),\n",
       " (2, 'so'),\n",
       " (2, 'sky'),\n",
       " (2, 'same'),\n",
       " (2, 'repeated'),\n",
       " (2, 'queen'),\n",
       " (2, 'play'),\n",
       " (2, 'pieces'),\n",
       " (2, 'over'),\n",
       " (2, 'other'),\n",
       " (2, 'or'),\n",
       " (2, 'opened'),\n",
       " (2, 'only'),\n",
       " (2, 'one'),\n",
       " (2, 'noise'),\n",
       " (2, 'no'),\n",
       " (2, 'next'),\n",
       " (2, 'nearly'),\n",
       " (2, 'looking'),\n",
       " (2, 'livery'),\n",
       " (2, 'little'),\n",
       " (2, 'know'),\n",
       " (2, 'knocking'),\n",
       " (2, 'invitation'),\n",
       " (2, 'inside'),\n",
       " (2, 'if'),\n",
       " (2, 'house'),\n",
       " (2, 'her'),\n",
       " (2, 'great'),\n",
       " (2, 'get'),\n",
       " (2, 'from'),\n",
       " (2, 'frog'),\n",
       " (2, 'face'),\n",
       " (2, 'eyes'),\n",
       " (2, 'duchess'),\n",
       " (2, 'croquet'),\n",
       " (2, 'could'),\n",
       " (2, 'came'),\n",
       " (2, 'both'),\n",
       " (2, 'be'),\n",
       " (2, 'are'),\n",
       " (2, 'an'),\n",
       " (2, 'am'),\n",
       " (1, '‘till'),\n",
       " (1, '‘there’s'),\n",
       " (1, '‘there'),\n",
       " (1, '‘please'),\n",
       " (1, '‘if'),\n",
       " (1, '‘i'),\n",
       " (1, '‘how'),\n",
       " (1, '‘his'),\n",
       " (1, '‘from'),\n",
       " (1, '‘for'),\n",
       " (1, '‘but'),\n",
       " (1, '‘and'),\n",
       " (1, '—how'),\n",
       " (1, '—and'),\n",
       " (1, 'your'),\n",
       " (1, 'would'),\n",
       " (1, 'words'),\n",
       " (1, 'wood—'),\n",
       " (1, 'wondering'),\n",
       " (1, 'without'),\n",
       " (1, 'within—a'),\n",
       " (1, 'were'),\n",
       " (1, 'we'),\n",
       " (1, 'way'),\n",
       " (1, 'use'),\n",
       " (1, 'us'),\n",
       " (1, 'under'),\n",
       " (1, 'uncivil'),\n",
       " (1, 'trees'),\n",
       " (1, 'top'),\n",
       " (1, 'tomorrow—’'),\n",
       " (1, 'together'),\n",
       " (1, 'timidly'),\n",
       " (1, 'time'),\n",
       " (1, 'thought'),\n",
       " (1, 'they’re'),\n",
       " (1, 'they'),\n",
       " (1, 'there'),\n",
       " (1, 'suddenly'),\n",
       " (1, 'such'),\n",
       " (1, 'stupidly'),\n",
       " (1, 'straight'),\n",
       " (1, 'stood'),\n",
       " (1, 'staring'),\n",
       " (1, 'speaking'),\n",
       " (1, 'sort'),\n",
       " (1, 'some'),\n",
       " (1, 'sneezing'),\n",
       " (1, 'skimming'),\n",
       " (1, 'sitting'),\n",
       " (1, 'sit'),\n",
       " (1, 'side'),\n",
       " (1, 'shall'),\n",
       " (1, 'sense'),\n",
       " (1, 'secondly'),\n",
       " (1, 'saying'),\n",
       " (1, 'running'),\n",
       " (1, 'run'),\n",
       " (1, 'round'),\n",
       " (1, 'remarked'),\n",
       " (1, 'reasons'),\n",
       " (1, 'rate'),\n",
       " (1, 'rapped'),\n",
       " (1, 'questions'),\n",
       " (1, 'producing'),\n",
       " (1, 'powdered'),\n",
       " (1, 'possibly'),\n",
       " (1, 'plate'),\n",
       " (1, 'perhaps'),\n",
       " (1, 'peeped'),\n",
       " (1, 'otherwise'),\n",
       " (1, 'order'),\n",
       " (1, 'now'),\n",
       " (1, 'noticed'),\n",
       " (1, 'nose'),\n",
       " (1, 'near'),\n",
       " (1, 'much'),\n",
       " (1, 'most'),\n",
       " (1, 'moment'),\n",
       " (1, 'minute'),\n",
       " (1, 'making'),\n",
       " (1, 'low'),\n",
       " (1, 'loudly'),\n",
       " (1, 'livery:'),\n",
       " (1, 'listen'),\n",
       " (1, 'like'),\n",
       " (1, 'letter'),\n",
       " (1, 'let'),\n",
       " (1, 'laughed'),\n",
       " (1, 'knuckles'),\n",
       " (1, 'knocked'),\n",
       " (1, 'knock'),\n",
       " (1, 'kettle'),\n",
       " (1, 'just'),\n",
       " (1, 'judging'),\n",
       " (1, 'i’m'),\n",
       " (1, 'instance'),\n",
       " (1, 'howling'),\n",
       " (1, 'himself'),\n",
       " (1, 'herself'),\n",
       " (1, 'here'),\n",
       " (1, 'help'),\n",
       " (1, 'hearing'),\n",
       " (1, 'hear'),\n",
       " (1, 'heads'),\n",
       " (1, 'head:'),\n",
       " (1, 'head'),\n",
       " (1, 'have'),\n",
       " (1, 'handed'),\n",
       " (1, 'hair'),\n",
       " (1, 'ground'),\n",
       " (1, 'grazed'),\n",
       " (1, 'got'),\n",
       " (1, 'gone'),\n",
       " (1, 'going'),\n",
       " (1, 'footmen'),\n",
       " (1, 'footman’s'),\n",
       " (1, 'first'),\n",
       " (1, 'felt'),\n",
       " (1, 'fear'),\n",
       " (1, 'extraordinary'),\n",
       " (1, 'every'),\n",
       " (1, 'entangled'),\n",
       " (1, 'do'),\n",
       " (1, 'dish'),\n",
       " (1, 'decidedly'),\n",
       " (1, 'curls'),\n",
       " (1, 'curled'),\n",
       " (1, 'curious'),\n",
       " (1, 'crept'),\n",
       " (1, 'crash'),\n",
       " (1, 'constant'),\n",
       " (1, 'considered'),\n",
       " (1, 'changing'),\n",
       " (1, 'certainly'),\n",
       " (1, 'can’t'),\n",
       " (1, 'called'),\n",
       " (1, 'but'),\n",
       " (1, 'broken'),\n",
       " (1, 'broke'),\n",
       " (1, 'bowed'),\n",
       " (1, 'between'),\n",
       " (1, 'behind'),\n",
       " (1, 'began'),\n",
       " (1, 'been'),\n",
       " (1, 'back'),\n",
       " (1, 'attending'),\n",
       " (1, 'arm'),\n",
       " (1, 'any'),\n",
       " (1, 'answer'),\n",
       " (1, 'another'),\n",
       " (1, 'aloud'),\n",
       " (1, 'against'),\n",
       " (1, 'about')]"
      ]
     },
     "execution_count": 89,
     "metadata": {},
     "output_type": "execute_result"
    }
   ],
   "source": [
    "# Using the counts() function and the .split() function, return a dictionary of most occuring words from the following paragraph.  Bonus, remove punctuation from words.\n",
    "\n",
    "Text=\"\"\"For a minute or two she stood looking at the house, and wondering what to do next, when suddenly a footman in livery came running out of the wood—(she considered him to be a footman because he was in livery: otherwise, judging by his face only, she would have called him a fish)—and rapped loudly at the door with his knuckles. It was opened by another footman in livery, with a round face, and large eyes like a frog; and both footmen, Alice noticed, had powdered hair that curled all over their heads. She felt very curious to know what it was all about, and crept a little way out of the wood to listen.\n",
    "The Fish-Footman began by producing from under his arm a great letter, nearly as large as himself, and this he handed over to the other, saying, in a solemn tone, ‘For the Duchess. An invitation from the Queen to play croquet.’ The Frog-Footman repeated, in the same solemn tone, only changing the order of the words a little, ‘From the Queen. An invitation for the Duchess to play croquet.’\n",
    "Then they both bowed low, and their curls got entangled together.\n",
    "Alice laughed so much at this, that she had to run back into the wood for fear of their hearing her; and when she next peeped out the Fish-Footman was gone, and the other was sitting on the ground near the door, staring stupidly up into the sky.\n",
    "Alice went timidly up to the door, and knocked.\n",
    "‘There’s no sort of use in knocking,’ said the Footman, ‘and that for two reasons. First, because I’m on the same side of the door as you are; secondly, because they’re making such a noise inside, no one could possibly hear you.’ And certainly there was a most extraordinary noise going on within—a constant howling and sneezing, and every now and then a great crash, as if a dish or kettle had been broken to pieces.\n",
    "‘Please, then,’ said Alice, ‘how am I to get in?’\n",
    "‘There might be some sense in your knocking,’ the Footman went on without attending to her, ‘if we had the door between us. For instance, if you were inside, you might knock, and I could let you out, you know.’ He was looking up into the sky all the time he was speaking, and this Alice thought decidedly uncivil. ‘But perhaps he can’t help it,’ she said to herself; ‘his eyes are so very nearly at the top of his head. But at any rate he might answer questions.—How am I to get in?’ she repeated, aloud.\n",
    "‘I shall sit here,’ the Footman remarked, ‘till tomorrow—’\n",
    "At this moment the door of the house opened, and a large plate came skimming out, straight at the Footman’s head: it just grazed his nose, and broke to pieces against one of the trees behind him.\"\"\"\n",
    "\n",
    "##Removing punctuation - couldn't figure out single quote and large em-dash....\n",
    "\n",
    "for char in ') - . ; , ' '( - ? ! ' ' \\n':\n",
    "    Text=Text.replace(char,' ')\n",
    "\n",
    "##Turns all text into lowercase\n",
    "\n",
    "Text = Text.lower()\n",
    "\n",
    "##Split Function\n",
    "word_list=Text.split()\n",
    "\n",
    "##Dictionary for loops - first create blank dictionary\n",
    "\n",
    "d={}\n",
    "\n",
    "##Counting number of times each word comes up in a list of words (in dictionary)\n",
    "\n",
    "for word in word_list:\n",
    "    d[word] = d.get(word, 0) + 1 \n",
    "    \n",
    "\n",
    "##The dictionary is ugly - so I sorted it \n",
    "##Using Tuples\n",
    "\n",
    "word_freq = []\n",
    "for key, value in d.items():\n",
    "    word_freq.append((value,key))\n",
    "\n",
    "\n",
    "#Now High to Low values\n",
    "\n",
    "word_freq.sort(reverse=True)\n",
    "word_freq\n",
    "\n",
    "\n",
    "\n"
   ]
  },
  {
   "cell_type": "code",
   "execution_count": 93,
   "metadata": {},
   "outputs": [
    {
     "name": "stdout",
     "output_type": "stream",
     "text": [
      "['1,M,190,77', '2,F,120,70', '3,F,110,68', '4,M,150,72', '5,O,120,66', '6,M,120,60', '7,F,140,70', 'id,sex,weight,height']\n"
     ]
    }
   ],
   "source": [
    "##Read in a file and write each line from the file to a new file Title-ized\n",
    "\n",
    "#First create a list from the file\n",
    "\n",
    "listone = list()\n",
    "\n",
    "#Next read in file\n",
    "\n",
    "filename='hw_data.csv'\n",
    "with open (filename) as fin:\n",
    "    for line in fin:\n",
    "        listone.append(line.strip())\n",
    "\n",
    "#sort list\n",
    "\n",
    "listone.sort()\n",
    "print(listone)\n",
    "\n",
    "#write new list to file\n",
    "\n",
    "filename='new_hw_file.csv'\n",
    "with open(filename, 'w') as fout:\n",
    "    for q in listone:\n",
    "        fout.write(q + '\\n')\n",
    "        \n",
    "\n",
    "\n",
    "        \n",
    "        \n",
    "\n"
   ]
  },
  {
   "cell_type": "code",
   "execution_count": 105,
   "metadata": {},
   "outputs": [],
   "source": [
    "#Numpy 1. Given a list, find the average using a numpy function.\n",
    "import numpy as np\n",
    "simple_list = [1,2,1,4,3,2,5,9]"
   ]
  },
  {
   "cell_type": "code",
   "execution_count": 107,
   "metadata": {},
   "outputs": [
    {
     "data": {
      "text/plain": [
       "3.375"
      ]
     },
     "execution_count": 107,
     "metadata": {},
     "output_type": "execute_result"
    }
   ],
   "source": [
    "np.mean(simple_list)\n"
   ]
  },
  {
   "cell_type": "code",
   "execution_count": 136,
   "metadata": {},
   "outputs": [],
   "source": [
    "#2. Given two lists of Heights and Weights of individual, calculate the BMI of those individuals, without writing a for-loop\n",
    "\n",
    "import numpy as np\n",
    "\n",
    "heights = [174, 173, 173, 175, 171]\n",
    "weights = [88, 83, 92, 74, 77]\n",
    "\n",
    "\n",
    "\n",
    "#Create arrays\n",
    "\n",
    "wa = np.array(weights)\n",
    "\n",
    "ha = np.array(heights)\n",
    "\n",
    "#Do calculations (assuming above calculations are already metric):\n",
    "\n",
    "bmi = (wa/ha/ha)* 10000\n",
    "\n",
    "\n",
    "\n",
    "\n",
    "\n"
   ]
  },
  {
   "cell_type": "code",
   "execution_count": 138,
   "metadata": {},
   "outputs": [
    {
     "data": {
      "text/plain": [
       "(array([0.02906593, 0.0277323 , 0.03073942, 0.02416327, 0.02633289]), 0)"
      ]
     },
     "execution_count": 138,
     "metadata": {},
     "output_type": "execute_result"
    }
   ],
   "source": [
    "bmi\n"
   ]
  },
  {
   "cell_type": "code",
   "execution_count": 140,
   "metadata": {},
   "outputs": [
    {
     "data": {
      "text/plain": [
       "array([0.        , 0.05263158, 0.10526316, 0.15789474, 0.21052632,\n",
       "       0.26315789, 0.31578947, 0.36842105, 0.42105263, 0.47368421,\n",
       "       0.52631579, 0.57894737, 0.63157895, 0.68421053, 0.73684211,\n",
       "       0.78947368, 0.84210526, 0.89473684, 0.94736842, 1.        ])"
      ]
     },
     "execution_count": 140,
     "metadata": {},
     "output_type": "execute_result"
    }
   ],
   "source": [
    "#3. Create an array of length 20 filled with random values (between 0 to 1)\n",
    "np.linspace(0,1,20)\n",
    "\n"
   ]
  },
  {
   "cell_type": "code",
   "execution_count": 141,
   "metadata": {},
   "outputs": [],
   "source": [
    "#Bonus. 1. Create an array with a large (>1000) length filled with random numbers from different distributions (normal, uniform, etc.). 2. Then, plot a histogram of these values.\n",
    "\n",
    "import numpy as np\n",
    "arr=np.random.randn(4,1000)"
   ]
  },
  {
   "cell_type": "code",
   "execution_count": 142,
   "metadata": {},
   "outputs": [
    {
     "data": {
      "text/plain": [
       "array([[ 1.10787758,  0.8656211 ,  0.34632001, ..., -0.03580148,\n",
       "         0.07662107, -0.91437851],\n",
       "       [ 0.99649529, -1.24960434,  0.34985979, ...,  1.21813543,\n",
       "         1.22215014, -0.88885759],\n",
       "       [ 0.52542025, -1.44905781,  1.50183664, ...,  0.79349293,\n",
       "        -0.89169338,  0.50464064],\n",
       "       [ 1.32907875, -0.46235698,  0.12119882, ..., -0.07087585,\n",
       "        -0.9290835 , -0.12857412]])"
      ]
     },
     "execution_count": 142,
     "metadata": {},
     "output_type": "execute_result"
    }
   ],
   "source": [
    "arr\n"
   ]
  },
  {
   "cell_type": "code",
   "execution_count": 145,
   "metadata": {},
   "outputs": [],
   "source": [
    "#Pandas\n",
    "#1. Read in a CSV () and display all the columns and their respective data types\n",
    "\n",
    "import pandas as pd\n",
    "import numpy as np\n",
    "\n",
    "\n"
   ]
  },
  {
   "cell_type": "code",
   "execution_count": 148,
   "metadata": {},
   "outputs": [],
   "source": [
    "pdfile = pd.read_csv(\"hw_data.csv\", index_col=0)\n"
   ]
  },
  {
   "cell_type": "code",
   "execution_count": 172,
   "metadata": {},
   "outputs": [
    {
     "name": "stdout",
     "output_type": "stream",
     "text": [
      "   sex  weight  height\n",
      "id                    \n",
      "1    M     190      77\n",
      "2    F     120      70\n",
      "3    F     110      68\n",
      "4    M     150      72\n",
      "5    O     120      66\n",
      "sex       object\n",
      "weight     int64\n",
      "height     int64\n",
      "dtype: object\n"
     ]
    }
   ],
   "source": [
    "print(pdfile.head())\n",
    "print(pdfile.dtypes)"
   ]
  },
  {
   "cell_type": "code",
   "execution_count": 157,
   "metadata": {},
   "outputs": [
    {
     "data": {
      "text/plain": [
       "135.71428571428572"
      ]
     },
     "execution_count": 157,
     "metadata": {},
     "output_type": "execute_result"
    }
   ],
   "source": [
    "#2. Find the average weight\n",
    "\n",
    "pdfile[\"weight\"].mean()\n",
    "\n"
   ]
  },
  {
   "cell_type": "code",
   "execution_count": 178,
   "metadata": {},
   "outputs": [
    {
     "data": {
      "text/plain": [
       "M    3\n",
       "F    3\n",
       "O    1\n",
       "Name: sex, dtype: int64"
      ]
     },
     "execution_count": 178,
     "metadata": {},
     "output_type": "execute_result"
    }
   ],
   "source": [
    "#3. Find the Value Counts on column sex\n",
    "\n",
    "pdfile['sex'].value_counts()\n"
   ]
  },
  {
   "cell_type": "code",
   "execution_count": 188,
   "metadata": {},
   "outputs": [],
   "source": [
    "#4. Plot Height vs. Weight\n",
    "\n",
    "import pandas as pd\n",
    "import matplotlib.pyplot as plt\n",
    "%matplotlib inline"
   ]
  },
  {
   "cell_type": "code",
   "execution_count": 189,
   "metadata": {},
   "outputs": [],
   "source": [
    "data=pd.read_csv(\"hw_data.csv\")\n"
   ]
  },
  {
   "cell_type": "code",
   "execution_count": 198,
   "metadata": {},
   "outputs": [
    {
     "data": {
      "text/plain": [
       "Text(0.5,1,'My Height Weight Scatterplot')"
      ]
     },
     "execution_count": 198,
     "metadata": {},
     "output_type": "execute_result"
    },
    {
     "data": {
      "image/png": "[encoded data removed]",
      "text/plain": [
       "<Figure size 432x288 with 1 Axes>"
      ]
     },
     "metadata": {},
     "output_type": "display_data"
    }
   ],
   "source": [
    "my_plot = data.plot.scatter('height', 'weight')\n",
    "my_plot.set_title ('My Height Weight Scatterplot')\n",
    "\n",
    "\n",
    "\n"
   ]
  },
  {
   "cell_type": "code",
   "execution_count": 213,
   "metadata": {},
   "outputs": [
    {
     "name": "stdout",
     "output_type": "stream",
     "text": [
      "   id sex  weight  height\n",
      "0   1   M     190      77\n",
      "1   2   F     120      70\n",
      "2   3   F     110      68\n",
      "3   4   M     150      72\n",
      "4   5   O     120      66\n",
      "5   6   M     120      60\n",
      "6   7   F     140      70\n"
     ]
    }
   ],
   "source": [
    "#5. Calculate BMI and save as a new column\n",
    "import numpy as np\n",
    "import pandas as pd\n",
    "\n",
    "\n",
    "data=pd.read_csv(\"hw_data.csv\")\n",
    "df=pd.DataFrame(data)\n",
    "\n",
    "\n",
    "print(df)\n",
    "\n",
    "\n",
    "\n"
   ]
  },
  {
   "cell_type": "code",
   "execution_count": 219,
   "metadata": {},
   "outputs": [
    {
     "data": {
      "text/plain": [
       "RangeIndex(start=0, stop=7, step=1)"
      ]
     },
     "execution_count": 219,
     "metadata": {},
     "output_type": "execute_result"
    }
   ],
   "source": [
    "df.index\n"
   ]
  },
  {
   "cell_type": "code",
   "execution_count": 220,
   "metadata": {},
   "outputs": [
    {
     "data": {
      "text/plain": [
       "Index(['id', 'sex', 'weight', 'height'], dtype='object')"
      ]
     },
     "execution_count": 220,
     "metadata": {},
     "output_type": "execute_result"
    }
   ],
   "source": [
    "df.columns"
   ]
  },
  {
   "cell_type": "code",
   "execution_count": 237,
   "metadata": {},
   "outputs": [],
   "source": [
    "df['BMI'] = df['weight'] / df['height'] / df['height'] * 703\n",
    "\n",
    "\n",
    "\n"
   ]
  },
  {
   "cell_type": "code",
   "execution_count": 241,
   "metadata": {},
   "outputs": [
    {
     "name": "stdout",
     "output_type": "stream",
     "text": [
      "   id sex  weight  height        BMI\n",
      "0   1   M     190      77  22.528251\n",
      "1   2   F     120      70  17.216327\n",
      "2   3   F     110      68  16.723616\n",
      "3   4   M     150      72  20.341435\n",
      "4   5   O     120      66  19.366391\n",
      "5   6   M     120      60  23.433333\n",
      "6   7   F     140      70  20.085714\n"
     ]
    }
   ],
   "source": [
    "print(df)\n",
    "\n"
   ]
  },
  {
   "cell_type": "code",
   "execution_count": 242,
   "metadata": {},
   "outputs": [],
   "source": [
    "#6. Save sheet as a new CSV file hw_dataB.csv\n",
    "\n",
    "filename='hw_dataB.csv'\n",
    "with open(filename, 'w') as fout:\n",
    "    for q in df:\n",
    "        fout.write(q + '\\n')"
   ]
  },
  {
   "cell_type": "code",
   "execution_count": 243,
   "metadata": {},
   "outputs": [
    {
     "name": "stderr",
     "output_type": "stream",
     "text": [
      "'cat' is not recognized as an internal or external command,\n",
      "operable program or batch file.\n"
     ]
    }
   ],
   "source": [
    "#Run the following  I have no idea how to fix this....\n",
    "\n",
    "!cat hw_dataB.csv"
   ]
  },
  {
   "cell_type": "code",
   "execution_count": null,
   "metadata": {},
   "outputs": [],
   "source": []
  }
 ],
 "metadata": {
  "kernelspec": {
   "display_name": "Python 3",
   "language": "python",
   "name": "python3"
  },
  "language_info": {
   "codemirror_mode": {
    "name": "ipython",
    "version": 3
   },
   "file_extension": ".py",
   "mimetype": "text/x-python",
   "name": "python",
   "nbconvert_exporter": "python",
   "pygments_lexer": "ipython3",
   "version": "3.6.5"
  }
 },
 "nbformat": 4,
 "nbformat_minor": 2
}
